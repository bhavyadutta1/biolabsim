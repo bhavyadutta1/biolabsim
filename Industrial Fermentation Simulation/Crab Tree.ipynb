{
 "cells": [
  {
   "cell_type": "markdown",
   "id": "e03f5364-b1a6-45bd-b23c-c16a8f3bb5da",
   "metadata": {
    "tags": []
   },
   "source": [
    "# <font color=\"royalblue\"> Crab Tree positive strain\n",
    "---"
   ]
  },
  {
   "cell_type": "markdown",
   "id": "793fbfd2-81fe-4caa-b659-665f76f8d46c",
   "metadata": {},
   "source": [
    "## <font color=\"royalblue\"> Introduction\n",
    "\n",
    "This simulation has its focus on the Crabtree Effect, a phenomenon microorganism where they preferentially produce ethanol rather than utilizing other metabolic pathways, even in the presence of sufficient oxygen. This effect involves a metabolic shift from aerobic respiration to aerobic fermentation in response to high glucose concentrations. This transition is vital for yeast's survival and competitive advantage in its environment. At low glucose levels, yeast prefers efficient respiration for energy production. However, under conditions of high sugar concentrations, it switches to less economical aerobic fermentation, depleting glucose resources rapidly. This shift is believed to provide an evolutionary advantage, helping yeast outcompete other microbes in nature.\n",
    "\n",
    "During this transition, there is a reduction in oxygen uptake due to the repression of respiration, known as the Crabtree Effect. This repression enhances ethanol production, inhibiting competitors' growth. Our research aims to uncover the intricacies of the Crabtree Effect, shedding light on yeast's metabolic strategies and its evolutionary significance in survival and competition.\n",
    "    \n",
    "---"
   ]
  },
  {
   "cell_type": "markdown",
   "id": "d3ceb6ae-26ef-4b63-8de9-469729c8295d",
   "metadata": {},
   "source": [
    "## <font color=\"royalblue\"> Theory\n",
    "\n",
    "**Specific Growth Rate (Equations 1):**\n",
    "The specific growth rate of microorganisms is influenced by substrate concentration (c_Glc) and product concentration (c_Eth), as these can inhibit growth if they reach toxic levels or fall below the required amount for survival. The specific growth rate (μ) is described by the Monod equation, which takes into account the affinity constant (kS) for the substrate and the inhibition constant (kI) for the product (ethanol in this case).\n",
    "    \n",
    "<div style=\"font-size: 1.2em; text-align: center; font-family: 'Arial', sans-serif; padding: 25px;\">\n",
    "    <div style=\"display: flex; align-items: center; justify-content: center; flex-direction: column;\">\n",
    "        <p style=\"margin-bottom: 15px; margin-left: 425px; font-style: italic;\">$$ \\mu = \\mu_{max} \\left( \\frac{s}{Ks + s} \\right) \\left( \\frac{I_e}{I_e + E} \\right) (1 − e^{t / t_{lag}}) $$</p>\n",
    "        <p style=\"align-self: flex-end; margin-left: 100px;\">(1)</p>\n",
    "    </div>\n",
    "</div>\n",
    "\n",
    "**Aerobic and Anaerobic Growth (Equations 2, 3, 4, and 5):**\n",
    "The concentration of dissolved oxygen (pO2) is a critical factor in determining whether growth occurs via aerobic respiration or aerobic fermentation. The Crab Tree effect is triggered when the substrate concentration exceeds a certain threshold (SW_Glc_crab). Equations 3 and 4 model biomass growth due to ethanol consumption under aerobic conditions when the initial substrate concentration is depleted. Equation 5 describes the change in specific growth rate during anaerobic conditions.\n",
    "\n",
    "<div style=\"font-size: 1.2em; text-align: center; font-family: 'Arial', sans-serif; padding: 25px;\">\n",
    "    <div style=\"display: flex; align-items: center; justify-content: center; flex-direction: column;\">\n",
    "        <p style=\"margin-bottom: 15px; margin-left: 350px; font-style: italic;\">$$ \\mu = \\mu^s_{max} \\left( \\frac{s}{Ks + s} \\right) \\left( \\frac{pO_2}{K_{O_{2,aer}} + pO_2} \\right) \\left( \\frac{I_{e,aer}}{I_{e,aer} + E} \\right) (1 − e^{t / T1}) $$</p>\n",
    "        <p style=\"align-self: flex-end; margin-left: 100px;\">(2)</p>\n",
    "    </div>\n",
    "</div>\n",
    "\n",
    "<div style=\"font-size: 1.2em; text-align: center; font-family: 'Arial', sans-serif; padding: 25px;\">\n",
    "    <div style=\"display: flex; align-items: center; justify-content: center; flex-direction: column;\">\n",
    "        <p style=\"margin-bottom: 15px; margin-left: 330px; font-style: italic;\">$$ \\mu^s_{crab} = \\mu^s_{max,crab} \\left( \\frac{s}{Ks + s} \\right) \\left( \\frac{pO_2}{K_{O_{2,crab}} + pO_2} \\right) \\left( \\frac{I_{e,crab}}{I_{e,crab} + E} \\right) (1 − e^{t / T2}) $$</p>\n",
    "        <p style=\"align-self: flex-end; margin-left: 100px;\">(3)</p>\n",
    "    </div>\n",
    "</div>\n",
    "\n",
    "<div style=\"font-size: 1.2em; text-align: center; font-family: 'Arial', sans-serif; padding: 25px;\">\n",
    "    <div style=\"display: flex; align-items: center; justify-content: center; flex-direction: column;\">\n",
    "        <p style=\"margin-bottom: 15px; margin-left: 395px; font-style: italic;\">$$ \\mu^e_{aer} = \\mu^s_{max,aer} \\left( \\frac{e}{K_{e,aer} + e} \\right) \\left( \\frac{pO_2}{K_{O_{2,aer}} + pO_2} \\right) R_2 $$</p>\n",
    "        <p style=\"align-self: flex-end; margin-left: 100px;\">(4)</p>\n",
    "    </div>\n",
    "</div>\n",
    "\n",
    "<div style=\"font-size: 1.2em; text-align: center; font-family: 'Arial', sans-serif; padding: 25px;\">\n",
    "    <div style=\"display: flex; align-items: center; justify-content: center; flex-direction: column;\">\n",
    "        <p style=\"margin-bottom: 15px; margin-left: 420px; font-style: italic;\">$$ \\mu^s_{anaer} = \\mu^s_{max,anaer} \\left( \\frac{s}{K_{s,anaer} + s} \\right) R_{O_2} $$</p>\n",
    "        <p style=\"align-self: flex-end; margin-left: 100px;\">(5)</p>\n",
    "    </div>\n",
    "</div>\n",
    "\n",
    "**Repression Effects (Equations 6 and 7):**\n",
    "Glucose can repress ethanol metabolization, while oxygen inhibits anaerobic growth. These repression effects are modeled by equations 6 and 7, and they become zero when the corresponding repressor concentrations are significantly above zero.\n",
    "\n",
    "<div style=\"font-size: 1.2em; text-align: center; font-family: 'Arial', sans-serif; padding: 25px;\">\n",
    "    <div style=\"display: flex; align-items: center; justify-content: center; flex-direction: column;\">\n",
    "        <p style=\"margin-bottom: 15px; margin-left: 380px; font-style: italic;\">$$ \\frac{dR_{O2}}{dt} = \\frac{1}{T3} \\left( \\frac{I_{O_2,anaer}}{I_{O_2,anaer} + p_{O_2}} - R_{O_2} \\right) \\left( \\frac{I_{e,anaer}}{I_{e,anaer} + E} - R_{O_2} \\right)$$</p>\n",
    "        <p style=\"align-self: flex-end; margin-left: 100px;\">(6)</p>\n",
    "    </div>\n",
    "</div>\n",
    "\n",
    "<div style=\"font-size: 1.2em; text-align: center; font-family: 'Arial', sans-serif; padding: 25px;\">\n",
    "    <div style=\"display: flex; align-items: center; justify-content: center; flex-direction: column;\">\n",
    "        <p style=\"margin-bottom: 15px; margin-left: 415px; font-style: italic;\">$$ \\frac{dR_{S}}{dt} = \\frac{1}{T4} \\left( \\frac{I_{O_2,aer}}{I_{O_2,aer} + p_{S}} - R_{O_2} \\right) \\left( \\frac{I_{e,aer}}{I_{e,aer} + E} - R_{S} \\right)$$</p>\n",
    "        <p style=\"align-self: flex-end; margin-left: 100px;\">(7)</p>\n",
    "    </div>\n",
    "</div>\n",
    "\n",
    "**Specific Substrate Uptake Rate (Equations 8 to 11):**\n",
    "The specific substrate uptake rate (q_Glc) is calculated based on the specific growth rate and the yield coefficient (Y_XGlc) for biomass production. Similar equations are used to calculate the specific substrate uptake rate for ethanol (q_Eth) and other metabolic processes.\n",
    "\n",
    "<div style=\"font-size: 1.2em; text-align: center; font-family: 'Arial', sans-serif; padding: 25px;\">\n",
    "    <div style=\"display: flex; align-items: center; justify-content: center; flex-direction: column;\">\n",
    "        <p style=\"margin-bottom: 15px; margin-left: 460px; font-style: italic;\">$$ q_{s,aer} = \\frac{1}{Y_{x/s,aer}}μ^s_{aer}$$</p>\n",
    "        <p style=\"align-self: flex-end; margin-left: 100px;\">(8)</p>\n",
    "    </div>\n",
    "</div>\n",
    "\n",
    "<div style=\"font-size: 1.2em; text-align: center; font-family: 'Arial', sans-serif; padding: 25px;\">\n",
    "    <div style=\"display: flex; align-items: center; justify-content: center; flex-direction: column;\">\n",
    "        <p style=\"margin-bottom: 15px; margin-left: 450px; font-style: italic;\">$$ q_{s,crab} = \\frac{1}{Y_{x/s,crab}}μ^s_{crab}$$</p>\n",
    "        <p style=\"align-self: flex-end; margin-left: 100px;\">(9)</p>\n",
    "    </div>\n",
    "</div>\n",
    "\n",
    "<div style=\"font-size: 1.2em; text-align: center; font-family: 'Arial', sans-serif; padding: 25px;\">\n",
    "    <div style=\"display: flex; align-items: center; justify-content: center; flex-direction: column;\">\n",
    "        <p style=\"margin-bottom: 15px; margin-left: 435px; font-style: italic;\">$$ q_{s,anaer} = \\frac{1}{Y_{x/s,anaer}}μ^s_{anaer}$$</p>\n",
    "        <p style=\"align-self: flex-end; margin-left: 100px;\">(10)</p>\n",
    "    </div>\n",
    "</div>\n",
    "\n",
    "<div style=\"font-size: 1.2em; text-align: center; font-family: 'Arial', sans-serif; padding: 25px;\">\n",
    "    <div style=\"display: flex; align-items: center; justify-content: center; flex-direction: column;\">\n",
    "        <p style=\"margin-bottom: 15px; margin-left: 450px; font-style: italic;\">$$ q_{e,aer} = \\frac{1}{Y_{x/e,aer}}μ^e_{aer}$$</p>\n",
    "        <p style=\"align-self: flex-end; margin-left: 100px;\">(11)</p>\n",
    "    </div>\n",
    "</div>\n",
    "\n",
    "**Production Rates (Equations 12 to 15):**\n",
    "Various production rates are calculated, including ethanol production rate (qp_Eth_Glc), carbon dioxide production rate (q_CO2), oxygen uptake rate (q_O2), water production rate (q_H2O), and heat generation rate (q_Q). These rates depend on the specific growth rate and yield coefficients.\n",
    "\n",
    "<div style=\"font-size: 1.2em; text-align: center; font-family: 'Arial', sans-serif; padding: 25px;\">\n",
    "    <div style=\"display: flex; align-items: center; justify-content: center; flex-direction: column;\">\n",
    "        <p style=\"margin-bottom: 15px; margin-left: 485px; font-style: italic;\">$$ Y'_{p/c} = \\frac{q_p}{q'_s} $$</p>\n",
    "        <p style=\"align-self: flex-end; margin-left: 100px;\">(12)</p>\n",
    "    </div>\n",
    "</div>\n",
    "\n",
    "<div style=\"font-size: 1.2em; text-align: center; font-family: 'Arial', sans-serif; padding: 25px;\">\n",
    "    <div style=\"display: flex; align-items: center; justify-content: center; flex-direction: column;\">\n",
    "        <p style=\"margin-bottom: 15px; margin-left: 420px; font-style: italic;\">$$ q'_s = q'_s − (1 − Y_{x/substrate}) $$</p>\n",
    "        <p style=\"align-self: flex-end; margin-left: 100px;\">(13)</p>\n",
    "    </div>\n",
    "</div>\n",
    "<div style=\"font-size: 1.2em; text-align: center; font-family: 'Arial', sans-serif; padding: 25px;\">\n",
    "    <div style=\"display: flex; align-items: center; justify-content: center; flex-direction: column;\">\n",
    "        <p style=\"margin-bottom: 15px; margin-left: 420px; font-style: italic;\">$$ q'_{p,e,crab} = Y'_{e/s,crab}q_{s,crab} (1 − Y_{x/s,crab})$$</p>\n",
    "        <p style=\"align-self: flex-end; margin-left: 100px;\">(14)</p>\n",
    "    </div>\n",
    "</div>\n",
    "<div style=\"font-size: 1.2em; text-align: center; font-family: 'Arial', sans-serif; padding: 25px;\">\n",
    "    <div style=\"display: flex; align-items: center; justify-content: center; flex-direction: column;\">\n",
    "        <p style=\"margin-bottom: 15px; margin-left: 400px; font-style: italic;\">$$ q'_{p,anaer} = Y'_{e/s,anaer}q_{s,anaer} (1 − Y_{x/s,anaer})$$</p>\n",
    "        <p style=\"align-self: flex-end; margin-left: 100px;\">(15)</p>\n",
    "    </div>\n",
    "</div>\n",
    "\n",
    "**Respiratory Quotient (RQ) and Total Specific Rate (Equation 30):**\n",
    "The respiratory quotient (RQ) relates the oxygen uptake rate to the carbon dioxide production rate. To obtain the total specific rate of growth, all specific rates under varying conditions are summed, and the death rate (rd) is subtracted.\n",
    "\n",
    "<div style=\"font-size: 1.2em; text-align: center; font-family: 'Arial', sans-serif; padding: 25px;\">\n",
    "    <div style=\"display: flex; align-items: center; justify-content: center; flex-direction: column;\">\n",
    "        <p style=\"margin-bottom: 15px; margin-left: 400px; font-style: italic;\">$$ \\mu = \\mu^s_{aer} + \\mu^s_{aner} + \\mu^s_{crab} + \\mu^e_{aer} − rd $$</p>\n",
    "        <p style=\"align-self: flex-end; margin-left: 100px;\">(30)</p>\n",
    "    </div>\n",
    "</div>\n",
    "\n",
    "---"
   ]
  },
  {
   "cell_type": "markdown",
   "id": "c4d210ee-ad25-4a38-8d41-ba14f02b0234",
   "metadata": {},
   "source": [
    "## <font color=\"royalblue\"> Simulation"
   ]
  },
  {
   "cell_type": "markdown",
   "id": "db1e762f-5728-4bf5-8908-68f0969f085a",
   "metadata": {
    "tags": []
   },
   "source": [
    "### <font color=\"royalblue\"> Define the initial conditions of the experiment\n",
    "    \n",
    "In this simulation, time is measured in hours, so remember that you have the flexibility to employ decimal numbers (e.g., 1.5 hours equals 90 minutes).\n",
    "\n",
    "In this simulation Glucose is used as a substrate, it is a common substrate to grow microorganisms.\n",
    "\n",
    "During inoculation, you input the quantity of living cells in grams. In a practical laboratory experiment, the usual procedure entails working with a liquid medium containing a specified cell concentration, and from there, determining the volume of liquid required to obtain the desired quantity of cells in grams."
   ]
  },
  {
   "cell_type": "code",
   "execution_count": 2,
   "id": "114c9cb7-c117-4165-9822-a7510a91ab39",
   "metadata": {},
   "outputs": [],
   "source": [
    "%run MicrobialGrowthScenarios.ipynb"
   ]
  },
  {
   "cell_type": "code",
   "execution_count": null,
   "id": "c91887e0-5e85-426b-9112-403a933fa83e",
   "metadata": {},
   "outputs": [],
   "source": [
    "t = float(input(\"Enter simulation time (hours): \")) # example 6\n",
    "c_Glc_0 = float(input(\"Enter initial glucose concentration (g/L): \")) # example 25\n",
    "Xv_0 = float(input(\"Enter initial living cell mass (g): \")) # example 6.1"
   ]
  },
  {
   "cell_type": "markdown",
   "id": "e9cbeabd-36eb-48fb-a391-f82205fb6562",
   "metadata": {},
   "source": [
    "### <font color=\"royalblue\"> These variables are only changed if required\n",
    "    \n",
    "In this simulation, you have the flexibility to adjust various variables, although their influence of these Variables is generally not as significant as Time, Substrate, and Inoculation. These variables allow you to align the simulation with specific experimental scenarios."
   ]
  },
  {
   "cell_type": "code",
   "execution_count": null,
   "id": "b7dd59fd",
   "metadata": {},
   "outputs": [],
   "source": [
    "c_Eth_0 = 0  # Initial ethanol concentration (g/L)\n",
    "p_CO2_0 = 0  # Initial carbon dioxide concentration (g/L)\n",
    "p_O2_0 = 40  # Initial oxygen concentration (Vol-%)\n",
    "m_H20_0 = 0  # Initial water concentration (mol/mol)\n",
    "Q_0 = 0  # Initial heat generation rate (J/kg)\n",
    "KR_E_0 = 0  # Initial value for half-saturation constant of ethanol\n",
    "KR_O2_0 = 0  # Initial value for half-saturation constant of oxygen\n",
    "Xd_0 = 0  # Initial dead cell mass"
   ]
  },
  {
   "cell_type": "markdown",
   "id": "a63ea5e9-c80c-4d2f-a6e2-0605ec40265e",
   "metadata": {},
   "source": [
    "###  <font color=\"royalblue\"> Simulate the growth of your microorganism"
   ]
  },
  {
   "cell_type": "code",
   "execution_count": null,
   "id": "2cb716ad",
   "metadata": {},
   "outputs": [],
   "source": [
    "y0 = [Xv_0, Xd_0, c_Glc_0, c_Eth_0, p_CO2_0, p_O2_0, m_H20_0, Q_0, KR_O2_0, KR_E_0]\n",
    "\n",
    "# Define equations\n",
    "Crab_Tree(y0, t)\n",
    "\n",
    "# Define time span\n",
    "tspan = np.linspace(0, t, 300)\n",
    "\n",
    "# Solve the differential equations\n",
    "sol = odeint(Crab_Tree, y0, tspan)\n",
    "\n",
    "# Extract variables\n",
    "Xv = sol[:, 0]\n",
    "Xd = sol[:, 1]\n",
    "c_Glc = sol[:, 2]\n",
    "c_Eth = sol[:, 3]\n",
    "XvXd = Xv + Xd"
   ]
  },
  {
   "cell_type": "markdown",
   "id": "783449c0-b92a-43f3-ad5f-3f12b2c3a615",
   "metadata": {},
   "source": [
    "###  <font color=\"royalblue\"> Show the simulation\n",
    "    \n",
    "The simulation shows you two plots. The first is Behaviour over Time showing the concentration of Glucose, Ethanol and Cellmass. The second is Biomass over time only showing the Biomass concentration to highlight the Microbiol growth."
   ]
  },
  {
   "cell_type": "code",
   "execution_count": null,
   "id": "3539f6e0-7065-4ae9-9014-1980589aa60b",
   "metadata": {},
   "outputs": [],
   "source": [
    "create_main_plot(tspan, c_Glc, c_Eth, XvXd)\n",
    "\n",
    "create_sub_plot(tspan, XvXd)\n",
    "\n",
    "# Display the entered values\n",
    "print(\"\\nSimulation Parameters:\")\n",
    "print(f\"Simulation Time: {t} hours\")\n",
    "print(f\"Initial Glucose Concentration: {c_Glc_0} g/L\")\n",
    "print(f\"Initial Living Cell Mass: {Xv_0} g\")"
   ]
  },
  {
   "cell_type": "code",
   "execution_count": null,
   "id": "e599777c",
   "metadata": {},
   "outputs": [],
   "source": []
  },
  {
   "cell_type": "code",
   "execution_count": null,
   "id": "0aebabfb-d3cb-4bfc-b24c-45a991b88fd2",
   "metadata": {},
   "outputs": [],
   "source": []
  }
 ],
 "metadata": {
  "kernelspec": {
   "display_name": "Python 3 (ipykernel)",
   "language": "python",
   "name": "python3"
  },
  "language_info": {
   "codemirror_mode": {
    "name": "ipython",
    "version": 3
   },
   "file_extension": ".py",
   "mimetype": "text/x-python",
   "name": "python",
   "nbconvert_exporter": "python",
   "pygments_lexer": "ipython3",
   "version": "3.11.5"
  }
 },
 "nbformat": 4,
 "nbformat_minor": 5
}
