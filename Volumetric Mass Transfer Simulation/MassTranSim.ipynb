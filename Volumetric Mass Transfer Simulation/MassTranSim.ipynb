{
 "cells": [
  {
   "cell_type": "code",
   "execution_count": 1,
   "id": "d63a5257-6d86-4612-bf7e-00bf71c5fe13",
   "metadata": {},
   "outputs": [],
   "source": [
    "import numpy as np\n",
    "import plotly.graph_objects as go\n",
    "from scipy.integrate import odeint\n",
    "import ipywidgets as widgets\n",
    "from IPython.display import display\n",
    "from ipywidgets import widgets, interactive_output"
   ]
  },
  {
   "cell_type": "code",
   "execution_count": 2,
   "id": "47803802-0f4a-4110-b59b-d43a625edae3",
   "metadata": {},
   "outputs": [],
   "source": [
    "mumax_Glc_aerob = 0.5  # h^-1\n",
    "mumax_Glc_crab = 0.34  # h^-1\n",
    "mumax_Glc_anaerob = 0.25  # h^-1\n",
    "mumax_Eth_aerob = 0.36  # h^-1\n",
    "kS_Glc_aerob = 0.1  # kg/m^3\n",
    "kS_Glc_crab = 0.001  # kg/m^3\n",
    "kS_Glc_anaerob = 0.1  # kg/m^3\n",
    "kS_O2_aerob = 30  # Vol-%\n",
    "kS_O2_crab = 30  # Vol-%\n",
    "kS_Eth_aerob = 0.1  # kg/m^3\n",
    "kI_Glc_aerob = 0.1  # kg/m^3\n",
    "kI_Eth_aerob = 46  # kg/m^3\n",
    "kI_Eth_crab = 46  # kg/m^3\n",
    "kI_O2_anaerob = 10  # Vol-%\n",
    "T1 = 0.2  # h\n",
    "T2 = 0.2  # h\n",
    "T3 = 0.2  # h\n",
    "T4 = 0.2  # h\n",
    "rd = 0.005  # h^-1\n",
    "Y_XGlc_aerob = 0.56  # g/g\n",
    "Y_XGlc_crab = 0.14  # g/g\n",
    "Y_XGlc_anaerob = 0.15  # g/g\n",
    "Y_XEth_aerob = 0.67  # g/g\n",
    "Y_CO2Glc_aerob = 1.46  # g/g\n",
    "Y_CO2Glc_crab = 0.53  # g/g\n",
    "Y_CO2Glc_anaerob = 0.48  # g/g\n",
    "Y_CO2Eth_aerob = 1.9  # g/g\n",
    "Y_EthGlc_anaerob = 0.51  # g/g\n",
    "Y_EthGlc_crab = 0.31  # g/g\n",
    "RQ_Glc_aerob = 1  # g/g\n",
    "RQ_Glc_crab = 9  # g/g\n",
    "RQ_Eth_aerob = 0.66  # g/g\n",
    "Y_H2OGlc_aerob = 6  # mol/mol\n",
    "Y_H2OGlc_crab = 0.25  # mol/mol\n",
    "Y_H2OEth_aerob = 3  # mol/mol\n",
    "Y_QGlc_aerob = 15.6e-3  # J/kg\n",
    "Y_QGlc_crab = 1.08e-3  # J/kg\n",
    "Y_QGlc_anaerob = 0.46e-3  # J/kg\n",
    "Y_QEth_aerob = 29.7e-3  # J/kg\n",
    "KF_rx = 1 #placeholder for temperature-dependent correction factor"
   ]
  },
  {
   "cell_type": "code",
   "execution_count": 3,
   "id": "f3dc1202-95dd-4c88-a24f-14ba6d125274",
   "metadata": {},
   "outputs": [],
   "source": [
    "# Create widgets \n",
    "c_Eth_0_widget = widgets.FloatSlider(value=0, min=0, max=100, step=0.1, description='ethanol (g/L)')\n",
    "p_CO2_0_widget = widgets.FloatSlider(value=1, min=0, max=100, step=0.1, description='CO2 (g/L)')\n",
    "p_O2_0_widget = widgets.FloatSlider(value=20, min=0, max=100, step=0.1, description='O2 (Vol-%)')\n",
    "m_H20_0_widget = widgets.FloatSlider(value=0, min=0, max=100, step=0.1, description='Initial ethanol(g/L)')\n",
    "Q_0_widget = widgets.FloatSlider(value=0, min=0, max=10, step=0.1, description='Temperature')\n",
    "KR_E_0_widget = widgets.FloatSlider(value=0, min=0, max=100, step=0.1, description='half-saturation ethanol')\n",
    "KR_O2_0_widget = widgets.FloatSlider(value=0, min=0, max=10, step=0.1, description='half-saturation O2 ')\n",
    "Xd_0_widget = widgets.FloatSlider(value=0, min=0, max=10, step=0.1, description='Dead cell mass(g)')\n",
    "Xv_0_widget = widgets.FloatSlider(value=5, min=0, max=100, step=0.1, description='Inoculum (g)')\n",
    "c_Glc_0_widget = widgets.FloatSlider(value=5, min=0, max=10, step=0.1, description='Substrate (g/L)')\n",
    "\n",
    "# Observe other widgets\n",
    "def update_parameters(change):\n",
    "    global c_Eth_0, p_CO2_0, p_O2_0, m_H20_0, Q_0, KR_E_0, KR_O2_0, Xd_0, t, c_Glc_0\n",
    "    c_Eth_0 = c_Eth_0_widget.value\n",
    "    p_CO2_0 = p_CO2_0_widget.value\n",
    "    p_O2_0 = p_O2_0_widget.value\n",
    "    m_H20_0 = m_H20_0_widget.value\n",
    "    Q_0 = Q_0_widget.value\n",
    "    KR_E_0 = KR_E_0_widget.value\n",
    "    KR_O2_0 = KR_O2_0_widget.value\n",
    "    Xd_0 = Xd_0_widget.value\n",
    "    Xv_0 = Xv_0_widget.value\n",
    "    c_Glc_0 = c_Glc_0_widget.value\n",
    "    \n",
    "# Update other parameters as needed\n",
    "c_Eth_0_widget.observe(update_parameters, names='value')\n",
    "p_CO2_0_widget.observe(update_parameters, names='value')\n",
    "p_O2_0_widget.observe(update_parameters, names='value')\n",
    "m_H20_0_widget.observe(update_parameters, names='value')\n",
    "Q_0_widget.observe(update_parameters, names='value')\n",
    "KR_E_0_widget.observe(update_parameters, names='value')\n",
    "KR_O2_0_widget.observe(update_parameters, names='value')\n",
    "Xd_0_widget.observe(update_parameters, names='value')\n",
    "Xv_0_widget.observe(update_parameters, names='value')\n",
    "c_Glc_0_widget.observe(update_parameters, names='value')"
   ]
  },
  {
   "cell_type": "code",
   "execution_count": 4,
   "id": "cbd6c6b8-acff-4c46-869e-44aed8f4a023",
   "metadata": {},
   "outputs": [],
   "source": [
    "def Crab_Tree(y, t):\n",
    "    Xv, Xd, c_Glc, c_Eth, p_CO2, p_O2, m_H20, Q, KR_O2, KR_E = y\n",
    "\n",
    "    # Anaerobic\n",
    "    mu_Glc_anaerob = mumax_Glc_anaerob*c_Glc/(kS_Glc_anaerob+c_Glc)*KR_O2 # (5) Anaerobic\n",
    "    q_Glc_anaerob = 1/Y_XGlc_anaerob*mu_Glc_anaerob # (10) specific substrate uptake rate\n",
    "    q_CO2_Glc_anaerob = Y_CO2Glc_anaerob*q_Glc_anaerob*(1-Y_XGlc_anaerob) # (17) Carbon Dioxide Production rate\n",
    "    qp_Eth_Glc_anaerob = Y_EthGlc_anaerob*q_Glc_anaerob*(1-Y_XGlc_anaerob) # (15) Ethanol Production rate\n",
    "    q_Q_Glc_anaerob = Y_QGlc_anaerob*q_Glc_anaerob*(1-Y_XGlc_anaerob) # (26) Heat Generation\n",
    "    \n",
    "    # Inhibition\n",
    "    mu_Eth_aerob = mumax_Eth_aerob*c_Eth/(kS_Eth_aerob+c_Eth)*p_O2/(kS_O2_aerob+p_O2)*KR_E # (4) Aerobic inhibited by ehtanol \n",
    "    q_Eth_aerob = 1/Y_XEth_aerob*mu_Eth_aerob # (11) specific substrate uptake rate\n",
    "    q_CO2_Eth_aerob = Y_CO2Eth_aerob*q_Eth_aerob*(1-Y_XEth_aerob) # (19) Carbon Dioxide Production rate\n",
    "    q_O2_Eth_aerob = q_CO2_Eth_aerob*32/(44*RQ_Eth_aerob) # (22) Oxygen uptake rate \n",
    "    q_H2O_Eth_aerob = Y_H2OEth_aerob*q_Eth_aerob*(1-Y_XEth_aerob) # (25) Water Production rate\n",
    "    q_Q_Eth_aerob = Y_QEth_aerob*q_Eth_aerob*(1-Y_XEth_aerob) # (29) Heat Generation\n",
    "     \n",
    "    # Crab_Tree\n",
    "    mu_Glc_crab = mumax_Glc_crab*c_Glc/(kS_Glc_crab+c_Glc)*p_O2/(kS_O2_crab+p_O2)*kI_Eth_crab/(kI_Eth_crab+c_Eth)*(1-np.exp(-t/T2))*SW_Glc_crab # (3) Crab tree\n",
    "    q_Glc_crab = 1/Y_XGlc_crab*mu_Glc_crab # (8) specific substrate uptake rate\n",
    "    q_CO2_Glc_crab = Y_CO2Glc_crab*q_Glc_crab*(1-Y_XGlc_crab) # (16) Carbon Dioxide Production rate\n",
    "    q_O2_Glc_crab = q_CO2_Glc_crab*32/(44*RQ_Glc_crab) # (21) Oxygen uptake rate \n",
    "    q_H2O_Glc_crab = Y_H2OGlc_crab*q_Glc_crab*(1-Y_XGlc_crab) # (24) Water Production rate\n",
    "    qp_Eth_Glc_crab = Y_EthGlc_crab*q_Glc_crab*(1-Y_XGlc_crab) # (14) Ethanol Production rate\n",
    "    q_Q_Glc_crab = Y_QGlc_crab*q_Glc_crab*(1-Y_XGlc_crab) # (27) Heat Generation\n",
    "    \n",
    "    # Aerobic\n",
    "    mu_Glc_aerob = mumax_Glc_aerob * c_Glc / (kS_Glc_aerob + c_Glc) * p_O2 / (kS_O2_aerob + p_O2) * kI_Eth_aerob / (kI_Eth_aerob + c_Eth) * (1 - np.exp(-t / T1)) # (4) aerobic\n",
    "    q_Glc_aerob = 1/Y_XGlc_aerob*mu_Glc_aerob # (9) specific substrate uptake rate\n",
    "    q_CO2_Glc_aerob = Y_CO2Glc_aerob*q_Glc_aerob*(1-Y_XGlc_aerob) # (18) Carbon Dioxide Production rate\n",
    "    q_O2_Glc_aerob = q_CO2_Glc_aerob*32/(44*RQ_Glc_aerob) # (20) Oxygen uptake rate \n",
    "    q_H2O_Glc_aerob = Y_H2OGlc_aerob*q_Glc_aerob*(1-Y_XGlc_aerob) # (23) Water Production rate\n",
    "    q_Q_Glc_aerob = Y_QGlc_aerob*q_Glc_aerob*(1-Y_XGlc_aerob) # (28) Heat Generation\n",
    "        \n",
    "    mu_total = (mu_Glc_aerob + mu_Glc_anaerob + mu_Glc_crab + mu_Eth_aerob) * KF_rx - rd # (30) Total biomass growth\n",
    "    q_Glc_total = (q_Glc_aerob + q_Glc_anaerob + q_Glc_crab) * KF_rx # (31) Total Glucose Consumption rate\n",
    "    q_Eth_total = (q_Eth_aerob - qp_Eth_Glc_anaerob - qp_Eth_Glc_crab) * KF_rx # (32) Total Ethanol Production rate\n",
    "    q_CO2_total = (q_CO2_Glc_aerob + q_CO2_Glc_anaerob + q_CO2_Glc_crab + q_CO2_Eth_aerob) * KF_rx # (33)Total CO2 Production rate\n",
    "    q_O2_total = (q_O2_Glc_aerob + q_O2_Glc_crab + q_O2_Eth_aerob) * KF_rx # (34) Total O2 Consumption rate\n",
    "    q_H2O_total = (q_H2O_Glc_aerob + q_H2O_Glc_crab + q_H2O_Eth_aerob) * KF_rx # (35) Total Water Production rate\n",
    "    q_Q_total = 1/3600 * (q_Q_Glc_aerob + q_Q_Glc_anaerob + q_Q_Glc_crab + q_Q_Eth_aerob) * KF_rx # (36) Total Heat Production rate\n",
    "\n",
    "    dydt = [\n",
    "        mu_total * Xv,\n",
    "        rd * Xv,\n",
    "        -q_Glc_total * Xv,\n",
    "        -q_Eth_total * Xv,\n",
    "        q_CO2_total * Xv,\n",
    "        -q_O2_total * Xv,\n",
    "        0 * q_O2_total * Xv,\n",
    "        q_Q_total * Xv,\n",
    "        1 / T3 * (kI_O2_anaerob / (kI_O2_anaerob + p_O2) - KR_O2) * (kI_Eth_aerob / (kI_Eth_aerob + c_Eth) - KR_E),\n",
    "        0\n",
    "    ]\n",
    "    return dydt\n"
   ]
  },
  {
   "cell_type": "code",
   "execution_count": 5,
   "id": "087fae19-a193-45a5-a6c4-7dd4710a34b2",
   "metadata": {},
   "outputs": [],
   "source": [
    "def create_plot(tspan, c_Glc, c_Eth, XvXd, p_CO2, p_O2):\n",
    "    # Create plots using Plotly\n",
    "    fig = go.Figure()\n",
    "    \n",
    "    fig.add_trace(go.Scatter(x=tspan * 60, y=c_Glc, name='Glucose', visible=True , line=dict(color='grey')))\n",
    "    fig.add_trace(go.Scatter(x=tspan * 60, y=c_Eth, name='Ethanol', visible=True , line=dict(color='orange')))\n",
    "    fig.add_trace(go.Scatter(x=tspan * 60, y=Xv + Xd, name='Cell mass', visible=True , line=dict(color='green')))\n",
    "    fig.add_trace(go.Scatter(x=tspan * 60, y=p_O2, name='Oxygen', visible=True , line=dict(color='blue')))\n",
    "    fig.add_trace(go.Scatter(x=tspan * 60, y=p_CO2, name='Carbondioxide', visible=True , line=dict(color='red')))\n",
    "    \n",
    "    # Define buttons for the left position\n",
    "    buttons_left = [\n",
    "    {'args': [None, {'frame': {'duration': 150, 'redraw': False},\n",
    "                    'fromcurrent': True, \"transition\": {\"duration\": 150, 'easing': 'quadratic-in-out'}}],\n",
    "     'label': 'Play',\n",
    "     'method': 'animate'},\n",
    "    {'args': [[None], {'frame': {'duration': 150, 'redraw': False}, 'mode': 'immediate'}],\n",
    "     'label': 'Pause',\n",
    "     'method': 'animate'},\n",
    "    {'args': [None, {'frame': {'duration': 150, 'redraw': True},\n",
    "                    'fromcurrent': False, \"transition\": {\"duration\": 150, 'easing': 'quadratic-in-out'}}],\n",
    "     'label': 'Reset',\n",
    "     'method': 'animate'},]\n",
    "\n",
    "    # Define buttons for the top position\n",
    "    buttons_top = [\n",
    "        dict(label=\"All\",\n",
    "          method=\"update\",\n",
    "          args=[{\"visible\": [True, True, True, True, True]},\n",
    "               {\"title\": \"All\",\n",
    "               \"annotations\": []}]),\n",
    "        dict(label=\"Glucose\",\n",
    "             method=\"update\",\n",
    "             args=[{\"visible\": [True, False, False, False, False]},\n",
    "               {\"title\": \"Glucose\",\n",
    "                \"annotations\": []}]),\n",
    "        dict(label=\"Ethanol\",\n",
    "             method=\"update\",\n",
    "             args=[{\"visible\": [False, True, False, False, False]},\n",
    "               {\"title\": \"Ethanol\",\n",
    "               \"annotations\": []}]),\n",
    "       dict(label=\"Cell mass\",\n",
    "            method=\"update\",\n",
    "            args=[{\"visible\": [False, False, True, False, False]},\n",
    "               {\"title\": \"Cell Mass\",\n",
    "               \"annotations\": []}]),\n",
    "       dict(label=\"Oxygen\",\n",
    "           method=\"update\",\n",
    "           args=[{\"visible\": [False, False, False, True, False]},\n",
    "               {\"title\": \"Oxygen\",\n",
    "               \"annotations\": []}]),\n",
    "       dict(label=\"Carbondioxide\",\n",
    "           method=\"update\",\n",
    "           args=[{\"visible\": [False, False, False, False, True]},\n",
    "               {\"title\": \"Carbondioxide\",\n",
    "               \"annotations\": []}]),\n",
    "       ]\n",
    "\n",
    "     # Add slider configuration with buttons in two different positions\n",
    "    fig.update_layout(\n",
    "        updatemenus=[\n",
    "        {\n",
    "            'buttons': buttons_left,\n",
    "            'direction': 'left',\n",
    "            'pad': {'r': 0, 't': 15},\n",
    "            'showactive': True,\n",
    "            'type': 'buttons',\n",
    "            'x': 0.1,\n",
    "            'xanchor': 'right',\n",
    "            'y': 0,\n",
    "            'yanchor': 'top'\n",
    "        },\n",
    "        {\n",
    "            'buttons': buttons_top,\n",
    "            'direction': 'down',\n",
    "            'showactive': False,\n",
    "            'x': 0.1,\n",
    "            'xanchor': 'right',\n",
    "            'y': 1.1,\n",
    "            'yanchor': 'top'\n",
    "        }])\n",
    "\n",
    "    # Create animation frames\n",
    "    frames = [go.Frame(data=[go.Scatter(x=tspan[:i + 1] * 60, y=c_Glc[:i + 1], name='Glucose'),\n",
    "                         go.Scatter(x=tspan[:i + 1] * 60, y=c_Eth[:i + 1], name='Ethanol'),\n",
    "                         go.Scatter(x=tspan[:i + 1] * 60, y=Xv[:i + 1] + Xd[:i + 1], name='Cell mass'),\n",
    "                         go.Scatter(x=tspan[:i + 1] * 60, y=p_O2[:i + 1], name='Oxygen'),\n",
    "                         go.Scatter(x=tspan[:i + 1] * 60, y=p_CO2[:i + 1], name='Carbondioxide')],\n",
    "                   traces=[0, 1, 2, 3, 4],\n",
    "                   name=f'frame_{i}')\n",
    "          for i in range(1, len(tspan) + 1)]\n",
    "    fig.frames = frames\n",
    "        \n",
    "    fig.update_xaxes(range=[tspan[0] * 60, tspan[-1] * 60])\n",
    "    \n",
    "    fig.update_layout(\n",
    "        title='Behaviour over Time',\n",
    "        xaxis_title='Time (minutes)',\n",
    "        yaxis_title='Concentration (g/L)',\n",
    "        legend=dict(x=1, y=1),\n",
    "        width=1265,  \n",
    "        height=600,\n",
    "        title_font_size=25,\n",
    "    )\n",
    "        \n",
    "    # Display the Plotly figure\n",
    "    fig.show();"
   ]
  },
  {
   "cell_type": "code",
   "execution_count": 6,
   "id": "d2dbc30c-fc14-4dee-b32f-d2b68e42e150",
   "metadata": {},
   "outputs": [],
   "source": [
    "Aerobic = False\n",
    "\n",
    "# Initial values for SW_Glc_aerob and SW_Glc_crab\n",
    "SW_Glc_aerob = 0 if Aerobic else 1\n",
    "SW_Glc_crab = 1 if Aerobic else 0\n",
    "\n",
    "# Create a function to toggle the crab variable and update the values\n",
    "def toggle_Aerobic(_):\n",
    "    global Aerobic\n",
    "    Aerobic = not Aerobic\n",
    "    SW_Glc_aerob = 0 if Aerobic else 1\n",
    "    SW_Glc_crab = 1 if Aerobic else 0"
   ]
  },
  {
   "cell_type": "code",
   "execution_count": 7,
   "id": "b0c15cd0-4558-492d-b6bc-e98df851e7dd",
   "metadata": {},
   "outputs": [],
   "source": [
    "t = float(input(\"Enter simulation time (hours): \")) # example 6"
   ]
  },
  {
   "cell_type": "code",
   "execution_count": 8,
   "id": "e9afdddd-97e7-433c-9344-93eec01e23d9",
   "metadata": {},
   "outputs": [],
   "source": [
    "y0 = [Xv_0_widget.value, Xd_0_widget.value, c_Glc_0_widget.value, c_Eth_0_widget.value, p_CO2_0_widget.value, p_O2_0_widget.value, m_H20_0_widget.value, Q_0_widget.value, KR_O2_0_widget.value, KR_E_0_widget.value]\n",
    "\n",
    "# Define equations\n",
    "Crab_Tree(y0, t)\n",
    "\n",
    "# Define time span\n",
    "tspan = np.linspace(0, t, 450)\n",
    "\n",
    "# Solve the differential equations\n",
    "sol = odeint(Crab_Tree, y0, tspan)\n",
    "\n",
    "# Extract variables\n",
    "Xv = sol[:, 0]\n",
    "Xd = sol[:, 1]\n",
    "c_Glc = sol[:, 2]\n",
    "c_Eth = sol[:, 3]\n",
    "p_CO2 = sol[:, 4]\n",
    "p_O2 = sol[:, 5]\n",
    "XvXd = Xv + Xd"
   ]
  },
  {
   "cell_type": "code",
   "execution_count": 9,
   "id": "c0a736a6-2218-4268-b1fa-c3e6b8d03fa5",
   "metadata": {},
   "outputs": [
    {
     "name": "stdout",
     "output_type": "stream",
     "text": [
      "Starting conditions:\n"
     ]
    }
   ],
   "source": [
    "print('Starting conditions:')"
   ]
  },
  {
   "cell_type": "code",
   "execution_count": 10,
   "id": "47156b03-36f4-4345-9c3f-74bc53e38894",
   "metadata": {},
   "outputs": [
    {
     "data": {
      "application/vnd.jupyter.widget-view+json": {
       "model_id": "9f3c1bea4ace4db9bc521c315f9501a5",
       "version_major": 2,
       "version_minor": 0
      },
      "text/plain": [
       "FloatSlider(value=0.0, description='ethanol (g/L)')"
      ]
     },
     "metadata": {},
     "output_type": "display_data"
    },
    {
     "data": {
      "application/vnd.jupyter.widget-view+json": {
       "model_id": "1958bfbf8b46452592358d52668eb03e",
       "version_major": 2,
       "version_minor": 0
      },
      "text/plain": [
       "FloatSlider(value=1.0, description='CO2 (g/L)')"
      ]
     },
     "metadata": {},
     "output_type": "display_data"
    },
    {
     "data": {
      "application/vnd.jupyter.widget-view+json": {
       "model_id": "14766cf39a734102918ba8b194ae849e",
       "version_major": 2,
       "version_minor": 0
      },
      "text/plain": [
       "FloatSlider(value=20.0, description='O2 (Vol-%)')"
      ]
     },
     "metadata": {},
     "output_type": "display_data"
    },
    {
     "data": {
      "application/vnd.jupyter.widget-view+json": {
       "model_id": "4871dea6f8c043e88f728b326c1cc9d3",
       "version_major": 2,
       "version_minor": 0
      },
      "text/plain": [
       "FloatSlider(value=0.0, description='Initial ethanol(g/L)')"
      ]
     },
     "metadata": {},
     "output_type": "display_data"
    },
    {
     "data": {
      "application/vnd.jupyter.widget-view+json": {
       "model_id": "4a3ab21314fc46608ce0d3eeda3d243d",
       "version_major": 2,
       "version_minor": 0
      },
      "text/plain": [
       "FloatSlider(value=0.0, description='Temperature', max=10.0)"
      ]
     },
     "metadata": {},
     "output_type": "display_data"
    },
    {
     "data": {
      "application/vnd.jupyter.widget-view+json": {
       "model_id": "c7923ac3b683415db11bd955176f21e3",
       "version_major": 2,
       "version_minor": 0
      },
      "text/plain": [
       "FloatSlider(value=0.0, description='half-saturation ethanol')"
      ]
     },
     "metadata": {},
     "output_type": "display_data"
    },
    {
     "data": {
      "application/vnd.jupyter.widget-view+json": {
       "model_id": "9eb19530717e434b83a33dda003ee682",
       "version_major": 2,
       "version_minor": 0
      },
      "text/plain": [
       "FloatSlider(value=0.0, description='half-saturation O2 ', max=10.0)"
      ]
     },
     "metadata": {},
     "output_type": "display_data"
    },
    {
     "data": {
      "application/vnd.jupyter.widget-view+json": {
       "model_id": "a1f9c81074394a2eb2fac6cedf399090",
       "version_major": 2,
       "version_minor": 0
      },
      "text/plain": [
       "FloatSlider(value=0.0, description='Dead cell mass(g)', max=10.0)"
      ]
     },
     "metadata": {},
     "output_type": "display_data"
    },
    {
     "data": {
      "application/vnd.jupyter.widget-view+json": {
       "model_id": "84e78e01e4cd4365a680f700b067771f",
       "version_major": 2,
       "version_minor": 0
      },
      "text/plain": [
       "FloatSlider(value=5.0, description='Inoculum (g)')"
      ]
     },
     "metadata": {},
     "output_type": "display_data"
    },
    {
     "data": {
      "application/vnd.jupyter.widget-view+json": {
       "model_id": "5ee2c3efabc44f27b782d06cd67b07fd",
       "version_major": 2,
       "version_minor": 0
      },
      "text/plain": [
       "FloatSlider(value=5.0, description='Substrate (g/L)', max=10.0)"
      ]
     },
     "metadata": {},
     "output_type": "display_data"
    },
    {
     "data": {
      "application/vnd.jupyter.widget-view+json": {
       "model_id": "48a792806f3f45fe91a5467fcfc2b7c1",
       "version_major": 2,
       "version_minor": 0
      },
      "text/plain": [
       "Output()"
      ]
     },
     "metadata": {},
     "output_type": "display_data"
    }
   ],
   "source": [
    "# Define update function\n",
    "def update_plot(c_Eth_0, p_CO2_0, p_O2_0, m_H20_0, Q_0, KR_E_0, KR_O2_0, Xd_0, Xv_0, c_Glc_0):\n",
    "    # Call Crab_Tree with the updated slider values\n",
    "    y0 = [Xv_0, Xd_0, c_Glc_0, c_Eth_0, p_CO2_0, p_O2_0, m_H20_0, Q_0, KR_O2_0, KR_E_0]\n",
    "    t_span = np.linspace(0, t, 450)  # Adjust the time span as needed\n",
    "    result = odeint(Crab_Tree, y0, t_span)\n",
    "\n",
    "    # Extract values for the plot\n",
    "    c_Glc, c_Eth, XvXd, p_CO2, p_O2 = result[:, 2], result[:, 3], result[:, 0] + result[:, 1], result[:, 4], result[:, 5]\n",
    "\n",
    "    # Update the plot using the new values\n",
    "    create_plot(t_span, c_Glc, c_Eth, XvXd, p_CO2, p_O2)\n",
    "    \n",
    "# Use interactive_output to link sliders to update function\n",
    "interactive_plot = interactive_output(update_plot,\n",
    "                                       {'c_Eth_0': c_Eth_0_widget,\n",
    "                                        'p_CO2_0': p_CO2_0_widget,\n",
    "                                        'p_O2_0': p_O2_0_widget,\n",
    "                                        'm_H20_0': m_H20_0_widget,\n",
    "                                        'Q_0': Q_0_widget,\n",
    "                                        'KR_E_0': KR_E_0_widget,\n",
    "                                        'KR_O2_0': KR_O2_0_widget,\n",
    "                                        'Xd_0': Xd_0_widget,\n",
    "                                        'Xv_0': Xv_0_widget,\n",
    "                                        'c_Glc_0': c_Glc_0_widget})\n",
    "\n",
    "# Display the sliders\n",
    "display(c_Eth_0_widget, p_CO2_0_widget, p_O2_0_widget, m_H20_0_widget, Q_0_widget, KR_E_0_widget, KR_O2_0_widget, Xd_0_widget, Xv_0_widget, c_Glc_0_widget)\n",
    "\n",
    "# Display the interactive plot\n",
    "display(interactive_plot)"
   ]
  },
  {
   "cell_type": "code",
   "execution_count": null,
   "id": "b5f98489-fdbc-47c1-bb18-37890c42a23b",
   "metadata": {},
   "outputs": [],
   "source": []
  }
 ],
 "metadata": {
  "kernelspec": {
   "display_name": "Python 3 (ipykernel)",
   "language": "python",
   "name": "python3"
  },
  "language_info": {
   "codemirror_mode": {
    "name": "ipython",
    "version": 3
   },
   "file_extension": ".py",
   "mimetype": "text/x-python",
   "name": "python",
   "nbconvert_exporter": "python",
   "pygments_lexer": "ipython3",
   "version": "3.11.5"
  }
 },
 "nbformat": 4,
 "nbformat_minor": 5
}
