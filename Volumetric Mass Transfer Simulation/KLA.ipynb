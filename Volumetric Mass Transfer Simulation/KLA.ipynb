{
 "cells": [
  {
   "cell_type": "markdown",
   "id": "62e557e2-5aaf-4be9-bf6e-7e70348b5ad1",
   "metadata": {},
   "source": [
    "# <font color=\"royalblue\"> Mass Transfer Simulation\n",
    "\n",
    "---"
   ]
  },
  {
   "cell_type": "markdown",
   "id": "2fbb2a20-4eb0-4604-a9c5-28873633dd6d",
   "metadata": {},
   "source": [
    "### <font color=\"royalblue\"> Introduction:\n",
    "This simulation aims to teach the effect of bioreactor design, power input to agitator and other variables on the volumetric mass transfer coefficient for oxygen values $(k_La)$. The volumetric mass-transfer coefficient for oxygen $(k_La)$ describes the efficiency with which oxygen can be delivered to a bioreactor. For optimum growth of microorganism or cell cultures in a bioreactor, the mass transfer rate of oxygen to the liquid broth must equal or exceed the rate at which growing cells take up that oxygen. Hence measurements of $k_La$ provide important information about a bioprocess or bioreactor. Measurements of $k_La$ are made to evaluate new reactor designs, new gas sparging equipment, and/or operating conditions. Among others, aeration rates, power input (power-per-volume) and bioreactor design are especially important for the energetic optimization and scaling up of aerobic fermenters. Different studies have developed different empirical formulas for predicting the $k_La$.\n",
    "    \n",
    "---"
   ]
  },
  {
   "cell_type": "markdown",
   "id": "0c96b424-f874-4f48-9181-4dac06e93f3d",
   "metadata": {},
   "source": [
    "### <font color=\"royalblue\"> Theory\n",
    "\n",
    "The specific growth rate of microorganisms is influenced by substrate concentration and product concentration, as these can inhibit growth if they reach toxic levels or fall below the required amount for survival. The specific growth rate (μ) is described by the Monod equation, which takes into account the affinity constant (kS) for the substrate and the inhibition constant (kI) for the product.\n",
    "The Monod equation is expressed as:\n",
    "\n",
    "<div style=\"font-size: 1.2em; text-align: center; font-family: 'Arial', sans-serif; padding: 25px;\">\n",
    "    <div style=\"display: flex; align-items: center; justify-content: center; flex-direction: column;\">\n",
    "        <p style=\"margin-bottom: 15px; margin-left: 425px; font-style: italic;\">$ μ = μ_{max} \\left( \\frac{s}{Ks + s} \\right) \\left( \\frac{I_e}{I_e + E} \\right) (1 − e^{t / t_{lag}}) $</p>\n",
    "        <p style=\"align-self: flex-end; margin-left: 100px;\">(1)</p>\n",
    "    </div>\n",
    "</div>\n",
    "\n",
    "##### <font color=\"royalblue\"> Dynamic Gassing-Out Method:\n",
    "The dynamic gassing-out method is applied in water as a medium. The bioreactor is equipped with a temperature and dissolved oxygen (pO2) probe, which have been polarized overnight.\n",
    "\n",
    "The relationship between pO2 and time is described by:\n",
    "    \n",
    "<div style=\"font-size: 1.2em; text-align: center; font-family: 'Arial', sans-serif; padding: 25px;\">\n",
    "    <div style=\"display: flex; align-items: center; justify-content: center; flex-direction: column;\">\n",
    "        <p style=\"margin-bottom: 15px; margin-left: 450px; font-style: italic;\">$$ \\ln \\left( \\frac{100\\%}{100\\% - pO_2L} \\right) = kLa \\cdot t $$</p>\n",
    "        <p style=\"align-self: flex-end; margin-left: 100px;\">(2)</p>\n",
    "    </div>\n",
    "</div>\n",
    "\n",
    "##### <font color=\"royalblue\"> Probe Calibration:\n",
    "For calibration of the pO2 probe, the bioreactor has to be brought to a \"steady-state,\" which means the temperature and aeration rate should be maintained for a sufficient period of time (30 minutes) until steady readings of the two parameters are achieved. The pO2 probe has been calibrated at the saturation point to 100% using air and 0% using nitrogen gas.\n",
    "\n",
    "    \n",
    "##### <font color=\"royalblue\"> Aeration Rate Calculation:\n",
    "The reactor contains a 6-bladed Rushton Turbine. The calculation of the aeration rate is done in volume per minute (vvm) as shown in equation 3:\n",
    "\n",
    "<div style=\"font-size: 1.2em; text-align: center; font-family: 'Arial', sans-serif; padding: 25px;\">\n",
    "    <div style=\"display: flex; align-items: center; justify-content: center; flex-direction: column;\">\n",
    "        <p style=\"margin-bottom: 15px; margin-left: 300px; font-style: italic;\">$$ Aeration rate = 1 \\cdot \\left( \\frac{Volumen\\ Gas}{Volumen\\ Liquid \\cdot \\text{time in minutes}} \\right) = \\frac{L}{L \\cdot \\text{min}} = \\frac{v}{v_m} $$</p>\n",
    "        <p style=\"align-self: flex-end; margin-left: 100px;\">(3)</p>\n",
    "    </div>\n",
    "</div>\n",
    "    \n",
    "---"
   ]
  },
  {
   "cell_type": "markdown",
   "id": "1e6f31ff-f67b-43a0-ad4d-1518c3d4e711",
   "metadata": {},
   "source": [
    "###  <font color=\"royalblue\"> Start the Simulation"
   ]
  },
  {
   "cell_type": "code",
   "execution_count": 1,
   "id": "d8ac4f55-c3ae-45d7-9568-6181e8438943",
   "metadata": {
    "tags": []
   },
   "outputs": [
    {
     "name": "stdin",
     "output_type": "stream",
     "text": [
      "Enter simulation time (hours):  3\n"
     ]
    },
    {
     "name": "stdout",
     "output_type": "stream",
     "text": [
      "Starting conditions:\n"
     ]
    },
    {
     "data": {
      "application/vnd.jupyter.widget-view+json": {
       "model_id": "67a0d6298c50409ea08594e47e17dfaa",
       "version_major": 2,
       "version_minor": 0
      },
      "text/plain": [
       "FloatSlider(value=0.0, description='ethanol (g/L)')"
      ]
     },
     "metadata": {},
     "output_type": "display_data"
    },
    {
     "data": {
      "application/vnd.jupyter.widget-view+json": {
       "model_id": "fa32631571864ebca4295407b615ad9e",
       "version_major": 2,
       "version_minor": 0
      },
      "text/plain": [
       "FloatSlider(value=1.0, description='CO2 (g/L)')"
      ]
     },
     "metadata": {},
     "output_type": "display_data"
    },
    {
     "data": {
      "application/vnd.jupyter.widget-view+json": {
       "model_id": "f862f3ff586e4b049e3034ff89ca5816",
       "version_major": 2,
       "version_minor": 0
      },
      "text/plain": [
       "FloatSlider(value=20.0, description='O2 (Vol-%)')"
      ]
     },
     "metadata": {},
     "output_type": "display_data"
    },
    {
     "data": {
      "application/vnd.jupyter.widget-view+json": {
       "model_id": "1fb2dc23c4db499fbbcb81582a37e2b2",
       "version_major": 2,
       "version_minor": 0
      },
      "text/plain": [
       "FloatSlider(value=0.0, description='Initial ethanol(g/L)')"
      ]
     },
     "metadata": {},
     "output_type": "display_data"
    },
    {
     "data": {
      "application/vnd.jupyter.widget-view+json": {
       "model_id": "729d57746c264b6daa4a1d191fb949ca",
       "version_major": 2,
       "version_minor": 0
      },
      "text/plain": [
       "FloatSlider(value=0.0, description='Temperature', max=10.0)"
      ]
     },
     "metadata": {},
     "output_type": "display_data"
    },
    {
     "data": {
      "application/vnd.jupyter.widget-view+json": {
       "model_id": "62a4ee9a1e6c49fdb65fd1602c136a17",
       "version_major": 2,
       "version_minor": 0
      },
      "text/plain": [
       "FloatSlider(value=0.0, description='half-saturation ethanol')"
      ]
     },
     "metadata": {},
     "output_type": "display_data"
    },
    {
     "data": {
      "application/vnd.jupyter.widget-view+json": {
       "model_id": "3cef6679a6044200a886062b8adf79f9",
       "version_major": 2,
       "version_minor": 0
      },
      "text/plain": [
       "FloatSlider(value=0.0, description='half-saturation O2 ', max=10.0)"
      ]
     },
     "metadata": {},
     "output_type": "display_data"
    },
    {
     "data": {
      "application/vnd.jupyter.widget-view+json": {
       "model_id": "a73ba0c59ff748ff99b45d951e65a015",
       "version_major": 2,
       "version_minor": 0
      },
      "text/plain": [
       "FloatSlider(value=0.0, description='Dead cell mass(g)', max=10.0)"
      ]
     },
     "metadata": {},
     "output_type": "display_data"
    },
    {
     "data": {
      "application/vnd.jupyter.widget-view+json": {
       "model_id": "8da5b40a9d784b57a2967a730aaa9873",
       "version_major": 2,
       "version_minor": 0
      },
      "text/plain": [
       "FloatSlider(value=5.0, description='Inoculum (g)')"
      ]
     },
     "metadata": {},
     "output_type": "display_data"
    },
    {
     "data": {
      "application/vnd.jupyter.widget-view+json": {
       "model_id": "eed732c176bf4ad4b54a7bbe6c21cdb1",
       "version_major": 2,
       "version_minor": 0
      },
      "text/plain": [
       "FloatSlider(value=5.0, description='Substrate (g/L)', max=10.0)"
      ]
     },
     "metadata": {},
     "output_type": "display_data"
    },
    {
     "data": {
      "application/vnd.jupyter.widget-view+json": {
       "model_id": "67bdcc2c27f547e7b88476b2ee3e1db6",
       "version_major": 2,
       "version_minor": 0
      },
      "text/plain": [
       "Output()"
      ]
     },
     "metadata": {},
     "output_type": "display_data"
    }
   ],
   "source": [
    "%run MassTranSim.ipynb"
   ]
  },
  {
   "cell_type": "code",
   "execution_count": null,
   "id": "58627663-c2e3-4c55-9ff5-d69069176e03",
   "metadata": {},
   "outputs": [],
   "source": []
  }
 ],
 "metadata": {
  "kernelspec": {
   "display_name": "Python 3 (ipykernel)",
   "language": "python",
   "name": "python3"
  },
  "language_info": {
   "codemirror_mode": {
    "name": "ipython",
    "version": 3
   },
   "file_extension": ".py",
   "mimetype": "text/x-python",
   "name": "python",
   "nbconvert_exporter": "python",
   "pygments_lexer": "ipython3",
   "version": "3.11.5"
  }
 },
 "nbformat": 4,
 "nbformat_minor": 5
}
